{
 "cells": [
  {
   "cell_type": "markdown",
   "metadata": {},
   "source": [
    "# hi matt"
   ]
  },
  {
   "cell_type": "code",
   "execution_count": 1,
   "metadata": {},
   "outputs": [
    {
     "name": "stdout",
     "output_type": "stream",
     "text": [
      "hi matt\n"
     ]
    }
   ],
   "source": [
    "print('hi matt')\n",
    "import sys\n",
    "\n",
    "import urllib2\n",
    "import math\n",
    "import re\n",
    "from bs4 import BeautifulSoup\n",
    "from pprint import pprint\n",
    "from threading import Thread\n",
    "from collections import deque\n",
    "from time import sleep\n",
    "import timeit\n",
    "\n",
    "USER_AGENT = \"Mozilla/5.0 (Windows NT 6.1; WOW64) AppleWebKit/537.36 (KHTML, like Gecko) Chrome/ 58.0.3029.81 Safari/537.36\"\n",
    "SEARCH_URL = \"https://google.com/search\"\n",
    "RESULT_SELECTOR = \"h3.r a\"\n",
    "TOTAL_SELECTOR = \"#resultStats\"\n",
    "RESULTS_PER_PAGE = 10\n",
    "DEFAULT_HEADERS = [\n",
    "        ('User-Agent', USER_AGENT),\n",
    "        (\"Accept-Language\", \"en-US,en;q=0.5\"),\n",
    "    ]\n",
    "SCALE_FACTOR = 1.5\n",
    "#SCALE_FACTOR = 1 # when monitor is connected\n"
   ]
  },
  {
   "cell_type": "code",
   "execution_count": 2,
   "metadata": {},
   "outputs": [
    {
     "name": "stdout",
     "output_type": "stream",
     "text": [
      "['When you break open a', 'pi\\xef\\xac\\x81ata, what is most', 'likely to pour out?', '', 'Sleepy bees', 'Slow-cooker recipes']\n",
      "likely to pour out?: 101000\n",
      "Sleepy bees: 6680\n",
      "Slow-cooker recipes: 2\n",
      "5.95606200733\n",
      "type exit to exit\n",
      "['According to a popular', 'saying, \\xe2\\x80\\x9cthe eyes are the', 'window to the\\xe2\\x80\\x9d what?', '', 'Stomach', 'Neighbor\\xe2\\x80\\x99s apartment', 'Soul']\n",
      "Stomach: 137000\n",
      "Neighbor’s apartment: 35700\n",
      "Soul: 368000\n",
      "2.88356183054\n",
      "type exit to exit\n",
      "['What is the name of the', 'square-shaped hat', 'students often wear', 'during graduation?', '', 'Tricorne', 'Mortarboard', 'Homburg']\n",
      "Tricorne: 10800\n",
      "Mortarboard: 52700\n",
      "Homburg: 30000\n",
      "3.29144979415\n",
      "type exit to exit\n",
      "['The classic TV game', 'show \\xe2\\x80\\x9cPress Your Luck\\xe2\\x80\\x9d', 'popularized what', 'catchphrase?', '', 'N :3\\xc2\\xbb w h : m m i e s 1', 'Sock it to me?', 'CO m e D n d Emmi']\n"
     ]
    },
    {
     "ename": "IndexError",
     "evalue": "list index out of range",
     "output_type": "error",
     "traceback": [
      "\u001b[1;31m\u001b[0m",
      "\u001b[1;31mIndexError\u001b[0mTraceback (most recent call last)",
      "\u001b[1;32m<ipython-input-2-338c1779e53f>\u001b[0m in \u001b[0;36m<module>\u001b[1;34m()\u001b[0m\n\u001b[0;32m     31\u001b[0m             \u001b[0msoup\u001b[0m \u001b[1;33m=\u001b[0m \u001b[0mBeautifulSoup\u001b[0m\u001b[1;33m(\u001b[0m\u001b[0mresponse\u001b[0m\u001b[1;33m.\u001b[0m\u001b[0mread\u001b[0m\u001b[1;33m(\u001b[0m\u001b[1;33m)\u001b[0m\u001b[1;33m,\u001b[0m \u001b[1;34m\"lxml\"\u001b[0m\u001b[1;33m)\u001b[0m\u001b[1;33m\u001b[0m\u001b[0m\n\u001b[0;32m     32\u001b[0m             \u001b[0mresponse\u001b[0m\u001b[1;33m.\u001b[0m\u001b[0mclose\u001b[0m\u001b[1;33m(\u001b[0m\u001b[1;33m)\u001b[0m\u001b[1;33m\u001b[0m\u001b[0m\n\u001b[1;32m---> 33\u001b[1;33m             \u001b[0mtotalText\u001b[0m \u001b[1;33m=\u001b[0m \u001b[0msoup\u001b[0m\u001b[1;33m.\u001b[0m\u001b[0mselect\u001b[0m\u001b[1;33m(\u001b[0m\u001b[0mTOTAL_SELECTOR\u001b[0m\u001b[1;33m)\u001b[0m\u001b[1;33m[\u001b[0m\u001b[1;36m0\u001b[0m\u001b[1;33m]\u001b[0m\u001b[1;33m.\u001b[0m\u001b[0mchildren\u001b[0m\u001b[1;33m.\u001b[0m\u001b[0mnext\u001b[0m\u001b[1;33m(\u001b[0m\u001b[1;33m)\u001b[0m\u001b[1;33m.\u001b[0m\u001b[0mencode\u001b[0m\u001b[1;33m(\u001b[0m\u001b[1;34m'utf-8'\u001b[0m\u001b[1;33m)\u001b[0m\u001b[1;33m\u001b[0m\u001b[0m\n\u001b[0m\u001b[0;32m     34\u001b[0m             \u001b[0mtotal\u001b[0m \u001b[1;33m=\u001b[0m \u001b[0mlong\u001b[0m\u001b[1;33m(\u001b[0m\u001b[0mre\u001b[0m\u001b[1;33m.\u001b[0m\u001b[0msub\u001b[0m\u001b[1;33m(\u001b[0m\u001b[1;34m\"[', ]\"\u001b[0m\u001b[1;33m,\u001b[0m \u001b[1;34m\"\"\u001b[0m\u001b[1;33m,\u001b[0m \u001b[0mre\u001b[0m\u001b[1;33m.\u001b[0m\u001b[0msearch\u001b[0m\u001b[1;33m(\u001b[0m\u001b[1;34m\"(([0-9]+[', ])*[0-9]+)\"\u001b[0m\u001b[1;33m,\u001b[0m \u001b[0mtotalText\u001b[0m\u001b[1;33m)\u001b[0m\u001b[1;33m.\u001b[0m\u001b[0mgroup\u001b[0m\u001b[1;33m(\u001b[0m\u001b[1;36m1\u001b[0m\u001b[1;33m)\u001b[0m\u001b[1;33m)\u001b[0m\u001b[1;33m)\u001b[0m\u001b[1;33m\u001b[0m\u001b[0m\n\u001b[0;32m     35\u001b[0m             \u001b[0moutput\u001b[0m \u001b[1;33m=\u001b[0m \u001b[0ma\u001b[0m \u001b[1;33m+\u001b[0m \u001b[1;34m\": \"\u001b[0m \u001b[1;33m+\u001b[0m \u001b[0mstr\u001b[0m\u001b[1;33m(\u001b[0m\u001b[0mtotal\u001b[0m\u001b[1;33m)\u001b[0m\u001b[1;33m\u001b[0m\u001b[0m\n",
      "\u001b[1;31mIndexError\u001b[0m: list index out of range"
     ]
    }
   ],
   "source": [
    "X0 = str(int(1360 * SCALE_FACTOR))\n",
    "Y0 = str(int(284 * SCALE_FACTOR))\n",
    "X1 = str(int(1690 * SCALE_FACTOR))\n",
    "Y1 = str(int(640 * SCALE_FACTOR))\n",
    "\n",
    "userin = ''\n",
    "while userin != 'exit':\n",
    "    start = timeit.default_timer()\n",
    "    \n",
    "    cmd = 'cd ../Capture2Text_v4.5.1_64bit & Capture2Text_CLI.exe -b --screen-rect \\\"' + X0 + ' ' + Y0 + ' ' + X1 + ' ' + Y1 + '\\\" '\n",
    "    scan = !{cmd}\n",
    "    print(scan)\n",
    "    answers = []\n",
    "    if len(scan) > 3 and len(scan) < 15:\n",
    "        c = 0\n",
    "        for a in reversed(scan):\n",
    "            c += 1\n",
    "            if a != '':\n",
    "                answers.append(a)\n",
    "                if len(answers) > 2:\n",
    "                    break\n",
    "        question = ' '.join(scan[0:(-1 * c)])\n",
    "        #print(answers)\n",
    "        #print(question)\n",
    "        for a in reversed(answers):\n",
    "            opener = urllib2.build_opener()\n",
    "            opener.addheaders = DEFAULT_HEADERS\n",
    "            query = question + \"\\\"\" + a + \"\\\"\"\n",
    "            #print(query)\n",
    "            response = opener.open(SEARCH_URL + \"?q=\"+ urllib2.quote(query))\n",
    "            soup = BeautifulSoup(response.read(), \"lxml\")\n",
    "            response.close()\n",
    "            totalText = soup.select(TOTAL_SELECTOR)[0].children.next().encode('utf-8')\n",
    "            total = long(re.sub(\"[', ]\", \"\", re.search(\"(([0-9]+[', ])*[0-9]+)\", totalText).group(1)))\n",
    "            output = a + \": \" + str(total)\n",
    "            print(output)\n",
    "    else:\n",
    "        print(\"input too large; make sure OCR is working correctly\")\n",
    "\n",
    "        \n",
    "    stop = timeit.default_timer()\n",
    "    print stop - start \n",
    "    \n",
    "    userin = raw_input(\"type exit to exit\")"
   ]
  },
  {
   "cell_type": "code",
   "execution_count": null,
   "metadata": {},
   "outputs": [],
   "source": []
  },
  {
   "cell_type": "code",
   "execution_count": null,
   "metadata": {},
   "outputs": [],
   "source": []
  }
 ],
 "metadata": {
  "kernelspec": {
   "display_name": "Python 3",
   "language": "python",
   "name": "python3"
  },
  "language_info": {
   "codemirror_mode": {
    "name": "ipython",
    "version": 3
   },
   "file_extension": ".py",
   "mimetype": "text/x-python",
   "name": "python",
   "nbconvert_exporter": "python",
   "pygments_lexer": "ipython3",
   "version": "3.6.4"
  }
 },
 "nbformat": 4,
 "nbformat_minor": 2
}
