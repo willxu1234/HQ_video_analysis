{
 "cells": [
  {
   "cell_type": "code",
   "execution_count": 63,
   "metadata": {
    "scrolled": true
   },
   "outputs": [
    {
     "name": "stdout",
     "output_type": "stream",
     "text": [
      "1\n"
     ]
    }
   ],
   "source": [
    "i = 1\n",
    "print(i)"
   ]
  },
  {
   "cell_type": "code",
   "execution_count": 64,
   "metadata": {},
   "outputs": [
    {
     "name": "stdout",
     "output_type": "stream",
     "text": [
      "Hi stephanie\n"
     ]
    }
   ],
   "source": [
    "print(\"Hi stephanie\")"
   ]
  },
  {
   "cell_type": "code",
   "execution_count": 65,
   "metadata": {},
   "outputs": [
    {
     "name": "stdout",
     "output_type": "stream",
     "text": [
      "1\n"
     ]
    }
   ],
   "source": [
    "print(i)"
   ]
  },
  {
   "cell_type": "markdown",
   "metadata": {},
   "source": [
    "sup"
   ]
  },
  {
   "cell_type": "markdown",
   "metadata": {},
   "source": [
    "# This is a headline\n",
    "## smaller headline\n",
    "\n",
    "**Bold**"
   ]
  },
  {
   "cell_type": "code",
   "execution_count": 66,
   "metadata": {},
   "outputs": [
    {
     "ename": "SyntaxError",
     "evalue": "Missing parentheses in call to 'print'. Did you mean print(i + 1)? (<ipython-input-66-d10a7dbae605>, line 1)",
     "output_type": "error",
     "traceback": [
      "\u001b[1;36m  File \u001b[1;32m\"<ipython-input-66-d10a7dbae605>\"\u001b[1;36m, line \u001b[1;32m1\u001b[0m\n\u001b[1;33m    print i + 1\u001b[0m\n\u001b[1;37m          ^\u001b[0m\n\u001b[1;31mSyntaxError\u001b[0m\u001b[1;31m:\u001b[0m Missing parentheses in call to 'print'. Did you mean print(i + 1)?\n"
     ]
    }
   ],
   "source": [
    "print i + 1"
   ]
  },
  {
   "cell_type": "code",
   "execution_count": 67,
   "metadata": {},
   "outputs": [
    {
     "name": "stdout",
     "output_type": "stream",
     "text": [
      "2\n"
     ]
    }
   ],
   "source": [
    "print(i + 1)"
   ]
  },
  {
   "cell_type": "markdown",
   "metadata": {},
   "source": [
    "$\\epsilon$"
   ]
  },
  {
   "cell_type": "markdown",
   "metadata": {},
   "source": [
    "$\\delta$ $q_0$"
   ]
  },
  {
   "cell_type": "code",
   "execution_count": 68,
   "metadata": {},
   "outputs": [
    {
     "data": {
      "text/plain": [
       "0"
      ]
     },
     "execution_count": 68,
     "metadata": {},
     "output_type": "execute_result"
    }
   ],
   "source": [
    "import os\n",
    "os.system('dir')"
   ]
  },
  {
   "cell_type": "code",
   "execution_count": 69,
   "metadata": {},
   "outputs": [
    {
     "name": "stdout",
     "output_type": "stream",
     "text": [
      " Volume in drive C is Blade Stealth\n",
      " Volume Serial Number is 3ABA-D0D0\n",
      "\n",
      " Directory of C:\\Users\\ch33z\\Documents\n",
      "\n",
      "04/17/2018  07:58 PM    <DIR>          .\n",
      "04/17/2018  07:58 PM    <DIR>          ..\n",
      "04/17/2018  04:07 PM    <DIR>          AceThinker\n",
      "09/28/2016  02:50 PM    <DIR>          Arduino\n",
      "06/16/2016  06:48 PM             1,224 ASIO4ALL v2 Instruction Manual.lnk\n",
      "03/08/2018  11:43 PM           409,150 BNJSsaz.jpg\n",
      "04/17/2018  04:26 PM    <DIR>          Capture2Text_v4.5.1_64bit\n",
      "02/23/2017  12:22 PM            91,851 college transcript.png\n",
      "07/12/2016  03:28 PM    <DIR>          Compsci\n",
      "04/17/2018  08:43 PM    <DIR>          CSE 105\n",
      "04/04/2018  01:56 AM        25,049,032 cse 105 textbook.pdf\n",
      "06/10/2017  01:07 PM    <DIR>          CSE 12\n",
      "06/11/2017  10:29 PM    <DIR>          CSE 20\n",
      "01/24/2018  09:27 PM           123,199 cse100-winter-2017-homework1.pdf\n",
      "01/15/2017  06:25 PM    <DIR>          Custom Office Templates\n",
      "11/16/2016  03:38 AM            62,887 dark.jpg\n",
      "03/07/2018  05:36 PM       674,333,616 DaVinci_Resolve_14.3_Windows.exe\n",
      "07/24/2016  08:55 AM               753 Desktop - Shortcut.lnk\n",
      "10/02/2017  02:27 PM    <DIR>          Dolphin Emulator\n",
      "10/02/2017  11:03 AM        10,175,271 Dorf, Svoboda - Introduction to Electric Circuits, 9th Ed.pdf\n",
      "04/05/2018  08:01 PM             7,970 download.jpg\n",
      "04/02/2017  02:20 PM         3,645,130 enrollmentverification.jpg\n",
      "07/20/2016  08:08 PM           144,352 eye.png\n",
      "07/21/2016  02:14 PM    <DIR>          Fax\n",
      "04/16/2018  09:33 PM    <DIR>          Financial stuff\n",
      "01/12/2017  11:53 AM        32,221,317 Fundamentals of Physics [10th Edition] - Halliday & Resnick.pdf\n",
      "04/07/2018  07:39 PM    <DIR>          housing App\n",
      "04/17/2018  10:32 PM    <DIR>          HQ\n",
      "01/30/2017  02:19 PM               143 HW3Part1a.txt\n",
      "07/12/2016  03:28 PM    <DIR>          Image-Line\n",
      "10/04/2016  11:51 PM         5,455,015 Java-An Eventful Approach.pdf\n",
      "07/28/2017  10:08 PM         2,745,044 MapleSaga.rar\n",
      "11/16/2016  03:53 AM    <DIR>          MATLAB\n",
      "07/12/2016  02:32 PM            75,947 me.jpg\n",
      "10/02/2017  11:06 AM    <DIR>          My Games\n",
      "07/14/2016  05:18 PM           401,037 MyApp.png\n",
      "02/23/2018  01:58 AM    <DIR>          Native Instruments\n",
      "11/02/2016  12:28 PM           948,984 NewSpeakerCase.STL\n",
      "10/03/2017  12:28 PM    <DIR>          Old Flash Drive\n",
      "01/24/2018  09:29 PM    <DIR>          OneNote Notebooks\n",
      "07/28/2017  12:03 AM    <DIR>          Overwatch\n",
      "11/16/2016  03:51 AM            28,420 Penguin.jpg\n",
      "02/21/2018  03:01 AM            78,530 pifam.jpg\n",
      "08/21/2016  05:48 PM            75,947 profilepicture2016.jpg\n",
      "09/23/2016  04:38 PM           531,368 putty.exe\n",
      "10/02/2017  11:06 AM    <DIR>          Python Scripts\n",
      "08/11/2017  12:20 AM            39,042 Receipt_sss_rv.pdf\n",
      "09/13/2017  10:41 PM           152,227 Resume.pdf\n",
      "04/05/2017  06:58 PM        37,963,820 Rosen_Discrete_Mathematics_and_Its_Applications_7th_Edition.pdf\n",
      "10/02/2017  11:06 AM    <DIR>          Scanned Documents\n",
      "10/09/2016  05:48 PM           231,341 scorched_earth_desktop.jpg\n",
      "01/11/2016  09:20 PM         1,156,162 seniortranscript.pdf\n",
      "07/19/2017  11:18 PM    <DIR>          Songs\n",
      "07/12/2016  03:28 PM    <DIR>          Sound recordings\n",
      "03/15/2018  02:56 AM             2,017 stuff1.txt\n",
      "09/12/2016  11:29 PM    <DIR>          The Fast and the Furious Tokyo Drift (2006) [1080p]\n",
      "10/04/2016  03:35 PM           347,054 ucsd integrity.png\n",
      "06/25/2016  11:00 PM    <DIR>          Unity\n",
      "07/21/2016  02:21 PM    <DIR>          Velodyne\n",
      "10/02/2017  11:06 AM    <DIR>          Visual Studio 2015\n",
      "04/02/2018  10:29 AM           133,401 willHousingApp.pdf\n",
      "01/15/2018  07:50 PM            57,144 WI_18 10B Food Matters Calendar of Assignments(3)(4)(1) (1).docx\n",
      "03/02/2017  11:48 AM           137,917 WXu GPA Verification Form.pdf\n",
      "06/25/2016  12:36 PM           254,537 yourlieinapril.jpg\n",
      "04/17/2017  02:13 AM    <DIR>          [OLD]CSE 12 and 15L\n",
      "              34 File(s)    797,080,849 bytes\n",
      "              31 Dir(s)  28,661,227,520 bytes free\n"
     ]
    }
   ],
   "source": [
    "cmd = 'dir ..'\n",
    "!{cmd}"
   ]
  },
  {
   "cell_type": "code",
   "execution_count": null,
   "metadata": {},
   "outputs": [],
   "source": []
  },
  {
   "cell_type": "code",
   "execution_count": 70,
   "metadata": {},
   "outputs": [
    {
     "name": "stdout",
     "output_type": "stream",
     "text": [
      "['â€”', 'D', '. - â€˜ â€˜', 'Q I -', \"' @ Reï¬‚ect your iDevice scr-\", 'â€˜ E} @ Record everything displ:', '{2) Q 3 D', 'x â€˜, m \"\\'\" \"\" Based on AirPla ,no ne', 'ww eege @ y', \"' ; . '9\", 'â€œJ - Â© Howto use AceThinKer', \"{A ' _ â€˜\", '- e']\n"
     ]
    }
   ],
   "source": [
    "cmd = 'cd ../Capture2Text_v4.5.1_64bit & Capture2Text_CLI.exe -b --screen-rect \\\"1520 344 1900 748\\\" '\n",
    "scan = !{cmd}\n",
    "print(scan)"
   ]
  },
  {
   "cell_type": "code",
   "execution_count": null,
   "metadata": {},
   "outputs": [],
   "source": []
  },
  {
   "cell_type": "code",
   "execution_count": null,
   "metadata": {},
   "outputs": [],
   "source": []
  }
 ],
 "metadata": {
  "kernelspec": {
   "display_name": "Python 3",
   "language": "python",
   "name": "python3"
  },
  "language_info": {
   "codemirror_mode": {
    "name": "ipython",
    "version": 3
   },
   "file_extension": ".py",
   "mimetype": "text/x-python",
   "name": "python",
   "nbconvert_exporter": "python",
   "pygments_lexer": "ipython3",
   "version": "3.6.4"
  }
 },
 "nbformat": 4,
 "nbformat_minor": 2
}
